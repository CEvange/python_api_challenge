{
 "cells": [
  {
   "cell_type": "markdown",
   "metadata": {},
   "source": [
    "# WeatherPy\n",
    "----\n",
    "\n",
    "#### Note\n",
    "* Instructions have been included for each segment. You do not have to follow them exactly, but they are included to help you think through the steps."
   ]
  },
  {
   "cell_type": "code",
   "execution_count": 1,
   "metadata": {
    "scrolled": true
   },
   "outputs": [],
   "source": [
    "# Dependencies\n",
    "import pandas as pd\n",
    "import json\n",
    "import requests\n",
    "from matplotlib import pyplot as plt\n",
    "import numpy as np\n",
    "from scipy import stats\n",
    "from api_keys import weather_api_key\n",
    "from citipy import citipy\n",
    "from datetime import datetime"
   ]
  },
  {
   "cell_type": "code",
   "execution_count": 2,
   "metadata": {},
   "outputs": [],
   "source": [
    "# Output file\n",
    "output_csv = 'cities.csv'\n",
    "\n",
    "latitude_range = (-90, 90)\n",
    "longitude_range = (-180, 180)\n",
    "\n"
   ]
  },
  {
   "cell_type": "markdown",
   "metadata": {},
   "source": [
    "## Generate Cities List"
   ]
  },
  {
   "cell_type": "code",
   "execution_count": 3,
   "metadata": {},
   "outputs": [
    {
     "data": {
      "text/plain": [
       "648"
      ]
     },
     "execution_count": 3,
     "metadata": {},
     "output_type": "execute_result"
    }
   ],
   "source": [
    "lat_long = []\n",
    "cities = []\n",
    "\n",
    "# Create random latitude and longitude combinations\n",
    "lat_comb = np.random.uniform(latitude_range[0], latitude_range[1], size=1500)\n",
    "long_comb = np.random.uniform(longitude_range[0], longitude_range[1], size=1500)\n",
    "lat_long = zip(lat_comb, long_comb)\n",
    "\n",
    "# Get nearest city for each lat_long combination\n",
    "for lat_long in lat_long:\n",
    "    city = citipy.nearest_city(lat_long[0], lat_long[1]).city_name\n",
    "\n",
    "    if city not in cities:\n",
    "        cities.append(city)\n",
    "\n",
    "# City count\n",
    "len(cities)\n"
   ]
  },
  {
   "cell_type": "markdown",
   "metadata": {},
   "source": [
    "### Perform API Calls\n",
    "* Perform a weather check on each city using a series of successive API calls.\n",
    "* Include a print log of each city as it'sbeing processed (with the city number and city name).\n"
   ]
  },
  {
   "cell_type": "code",
   "execution_count": 5,
   "metadata": {
    "scrolled": true
   },
   "outputs": [
    {
     "name": "stdout",
     "output_type": "stream",
     "text": [
      "Processing Record 1 - severnyy\n",
      "Processing Record 2 - rikitea\n",
      "Processing Record 3 - yulara\n",
      "Processing Record 4 - fecamp\n",
      "Processing Record 5 - port alfred\n",
      "Processing Record 6 - mao\n",
      "Processing Record 7 - saint george\n",
      "Processing Record 8 - chuy\n",
      "Processing Record 9 - sola\n",
      "Processing Record 10 - busselton\n",
      "Processing Record 11 - bidor\n",
      "Processing Record 12 - poum\n",
      "Processing Record 13 - jamestown\n",
      "Processing Record 14 - bandarbeyla\n",
      "belushya guba not found. Skipping..\n",
      "Processing Record 16 - christchurch\n",
      "Processing Record 17 - albany\n",
      "Processing Record 18 - hami\n",
      "Processing Record 19 - ushuaia\n",
      "Processing Record 20 - kapaa\n",
      "Processing Record 21 - casambalangan\n",
      "Processing Record 22 - cape town\n",
      "Processing Record 23 - mazamitla\n",
      "Processing Record 24 - vaini\n",
      "Processing Record 25 - erenhot\n",
      "Processing Record 26 - atuona\n",
      "Processing Record 27 - zaozerne\n",
      "Processing Record 28 - castro\n",
      "Processing Record 29 - puerto escondido\n",
      "Processing Record 30 - lae\n",
      "Processing Record 31 - saskylakh\n",
      "Processing Record 32 - hilo\n",
      "Processing Record 33 - hamilton\n",
      "Processing Record 34 - ribeira grande\n",
      "Processing Record 35 - bluff\n",
      "Processing Record 36 - talnakh\n",
      "Processing Record 37 - chokurdakh\n",
      "Processing Record 38 - tuktoyaktuk\n",
      "Processing Record 39 - mahebourg\n",
      "Processing Record 40 - hithadhoo\n",
      "Processing Record 41 - dikson\n",
      "Processing Record 42 - bredasdorp\n",
      "Processing Record 43 - yellowknife\n",
      "Processing Record 44 - aquiraz\n",
      "taolanaro not found. Skipping..\n",
      "kegayli not found. Skipping..\n",
      "Processing Record 47 - port shepstone\n",
      "Processing Record 48 - punta arenas\n",
      "Processing Record 49 - xixiang\n",
      "Processing Record 50 - la palma\n",
      "Processing Record 51 - mokobeng\n",
      "Processing Record 52 - kavieng\n",
      "Processing Record 53 - kudahuvadhoo\n",
      "Processing Record 54 - hermanus\n",
      "Processing Record 55 - hirara\n",
      "umm durman not found. Skipping..\n",
      "Processing Record 57 - sechura\n",
      "Processing Record 58 - roebourne\n",
      "Processing Record 59 - ketchikan\n",
      "Processing Record 60 - puerto ayora\n",
      "Processing Record 61 - thompson\n",
      "Processing Record 62 - sisimiut\n",
      "Processing Record 63 - xuchang\n",
      "Processing Record 64 - bengkulu\n",
      "Processing Record 65 - pitimbu\n",
      "Processing Record 66 - avarua\n",
      "Processing Record 67 - vilhena\n",
      "Processing Record 68 - tutoia\n",
      "Processing Record 69 - sur\n",
      "Processing Record 70 - portales\n",
      "Processing Record 71 - mataura\n",
      "masjed-e soleyman not found. Skipping..\n",
      "Processing Record 73 - reconquista\n",
      "Processing Record 74 - stromness\n",
      "Processing Record 75 - coquimbo\n",
      "Processing Record 76 - muros\n",
      "sentyabrskiy not found. Skipping..\n",
      "Processing Record 78 - naze\n",
      "Processing Record 79 - xining\n",
      "Processing Record 80 - georgetown\n",
      "Processing Record 81 - kodiak\n",
      "Processing Record 82 - lavrentiya\n",
      "Processing Record 83 - new norfolk\n",
      "Processing Record 84 - high level\n",
      "Processing Record 85 - manicore\n",
      "Processing Record 86 - san patricio\n",
      "Processing Record 87 - makakilo city\n",
      "Processing Record 88 - severo-kurilsk\n",
      "Processing Record 89 - butaritari\n",
      "Processing Record 90 - marienburg\n",
      "Processing Record 91 - skibbereen\n",
      "grand river south east not found. Skipping..\n",
      "Processing Record 93 - leningradskiy\n",
      "Processing Record 94 - royal tunbridge wells\n",
      "Processing Record 95 - coihaique\n",
      "Processing Record 96 - surskoye\n",
      "Processing Record 97 - haren\n",
      "Processing Record 98 - oranjemund\n",
      "Processing Record 99 - karangampel\n",
      "Processing Record 100 - ossora\n",
      "illoqqortoormiut not found. Skipping..\n",
      "Processing Record 102 - grenaa\n",
      "Processing Record 103 - teya\n",
      "Processing Record 104 - shieli\n",
      "Processing Record 105 - vysokogornyy\n",
      "Processing Record 106 - ilulissat\n",
      "Processing Record 107 - sao joao da barra\n",
      "Processing Record 108 - baiyin\n",
      "Processing Record 109 - paragominas\n",
      "Processing Record 110 - kinablangan\n",
      "Processing Record 111 - tuntum\n",
      "Processing Record 112 - saint-philippe\n",
      "Processing Record 113 - ortona\n",
      "Processing Record 114 - khatanga\n",
      "Processing Record 115 - oussouye\n",
      "Processing Record 116 - maningrida\n",
      "Processing Record 117 - viedma\n",
      "Processing Record 118 - saldanha\n",
      "Processing Record 119 - ponta do sol\n",
      "Processing Record 120 - deputatskiy\n",
      "Processing Record 121 - novyy svit\n",
      "Processing Record 122 - nikolskoye\n",
      "Processing Record 123 - tigil\n",
      "Processing Record 124 - mar del plata\n",
      "Processing Record 125 - arraial do cabo\n",
      "Processing Record 126 - ancud\n",
      "Processing Record 127 - borba\n",
      "Processing Record 128 - pangnirtung\n",
      "Processing Record 129 - hobart\n",
      "Processing Record 130 - codrington\n",
      "Processing Record 131 - kastamonu\n",
      "Processing Record 132 - najran\n",
      "Processing Record 133 - cam ranh\n",
      "Processing Record 134 - faya\n",
      "Processing Record 135 - bilibino\n",
      "Processing Record 136 - klaksvik\n",
      "Processing Record 137 - harper\n",
      "Processing Record 138 - manggar\n",
      "Processing Record 139 - kahului\n",
      "ruatoria not found. Skipping..\n",
      "Processing Record 141 - kruisfontein\n",
      "Processing Record 142 - lebu\n",
      "Processing Record 143 - richards bay\n",
      "Processing Record 144 - norman wells\n",
      "Processing Record 145 - siauliai\n",
      "tsihombe not found. Skipping..\n",
      "Processing Record 147 - san vicente de canete\n",
      "Processing Record 148 - lensk\n",
      "saleaula not found. Skipping..\n",
      "Processing Record 150 - iqaluit\n",
      "Processing Record 151 - virginia beach\n",
      "Processing Record 152 - lagoa\n",
      "Processing Record 153 - tiksi\n",
      "Processing Record 154 - te anau\n",
      "amderma not found. Skipping..\n",
      "Processing Record 156 - sholapur\n",
      "Processing Record 157 - sinjar\n",
      "Processing Record 158 - jiangyou\n",
      "Processing Record 159 - jining\n",
      "Processing Record 160 - katsuura\n",
      "Processing Record 161 - marawi\n",
      "Processing Record 162 - progreso\n",
      "Processing Record 163 - nemuro\n",
      "Processing Record 164 - vao\n",
      "Processing Record 165 - esperance\n",
      "Processing Record 166 - takoradi\n",
      "Processing Record 167 - sibolga\n",
      "Processing Record 168 - coahuayana\n",
      "bargal not found. Skipping..\n",
      "Processing Record 170 - krasnoselkup\n",
      "Processing Record 171 - shemursha\n",
      "Processing Record 172 - tilichiki\n",
      "Processing Record 173 - abha\n",
      "Processing Record 174 - margate\n",
      "Processing Record 175 - lovozero\n",
      "Processing Record 176 - stabat\n",
      "Processing Record 177 - raudeberg\n",
      "Processing Record 178 - qaanaaq\n",
      "Processing Record 179 - biak\n",
      "Processing Record 180 - sept-iles\n",
      "mys shmidta not found. Skipping..\n",
      "Processing Record 182 - east london\n",
      "Processing Record 183 - tamandare\n",
      "Processing Record 184 - san quintin\n",
      "Processing Record 185 - ahipara\n",
      "Processing Record 186 - grindavik\n",
      "Processing Record 187 - meulaboh\n",
      "umzimvubu not found. Skipping..\n",
      "Processing Record 189 - leh\n",
      "Processing Record 190 - sitka\n",
      "Processing Record 191 - robertsport\n",
      "Processing Record 192 - olinda\n",
      "sofiysk not found. Skipping..\n",
      "haibowan not found. Skipping..\n",
      "Processing Record 195 - buchanan\n",
      "vaitupu not found. Skipping..\n",
      "Processing Record 197 - waingapu\n",
      "Processing Record 198 - touros\n",
      "Processing Record 199 - westport\n",
      "Processing Record 200 - tarakan\n",
      "Processing Record 201 - xuddur\n",
      "Processing Record 202 - quang ngai\n",
      "Processing Record 203 - cidreira\n",
      "Processing Record 204 - livingston\n",
      "Processing Record 205 - tansen\n",
      "Processing Record 206 - nanortalik\n",
      "Processing Record 207 - tanabe\n",
      "Processing Record 208 - dingle\n",
      "Processing Record 209 - broken hill\n",
      "Processing Record 210 - luderitz\n",
      "Processing Record 211 - calama\n",
      "Processing Record 212 - lata\n",
      "Processing Record 213 - dandong\n",
      "Processing Record 214 - general cepeda\n",
      "Processing Record 215 - galle\n",
      "Processing Record 216 - zabol\n",
      "Processing Record 217 - garowe\n",
      "Processing Record 218 - parau\n",
      "Processing Record 219 - vila velha\n",
      "Processing Record 220 - port hardy\n",
      "Processing Record 221 - muncar\n",
      "Processing Record 222 - tapes\n",
      "Processing Record 223 - geraldton\n",
      "Processing Record 224 - bijie\n",
      "Processing Record 225 - yakeshi\n",
      "Processing Record 226 - sao felix do xingu\n",
      "Processing Record 227 - bosaso\n",
      "Processing Record 228 - xiamen\n",
      "Processing Record 229 - sabang\n",
      "barentsburg not found. Skipping..\n",
      "Processing Record 231 - hasaki\n",
      "Processing Record 232 - shymkent\n",
      "Processing Record 233 - kondinskoye\n",
      "Processing Record 234 - planaltina\n",
      "Processing Record 235 - manbij\n",
      "Processing Record 236 - tual\n",
      "Processing Record 237 - qaqortoq\n",
      "Processing Record 238 - chardara\n",
      "Processing Record 239 - torbay\n",
      "Processing Record 240 - at-bashi\n",
      "Processing Record 241 - lima\n",
      "Processing Record 242 - iquitos\n",
      "Processing Record 243 - inhambane\n",
      "Processing Record 244 - beringovskiy\n",
      "Processing Record 245 - baoshan\n",
      "Processing Record 246 - sainte-marie\n",
      "Processing Record 247 - dayong\n",
      "Processing Record 248 - porto novo\n",
      "Processing Record 249 - doka\n",
      "Processing Record 250 - tautira\n",
      "Processing Record 251 - provideniya\n",
      "Processing Record 252 - neryungri\n",
      "Processing Record 253 - boa vista\n",
      "Processing Record 254 - grand baie\n",
      "Processing Record 255 - ahuimanu\n",
      "Processing Record 256 - aykhal\n",
      "Processing Record 257 - bystrzyca klodzka\n",
      "Processing Record 258 - matara\n",
      "Processing Record 259 - aksu\n",
      "Processing Record 260 - soyo\n",
      "Processing Record 261 - punta alta\n",
      "Processing Record 262 - poltava\n",
      "Processing Record 263 - horsham\n",
      "Processing Record 264 - baherden\n",
      "Processing Record 265 - tuatapere\n",
      "Processing Record 266 - taltal\n",
      "Processing Record 267 - namatanai\n",
      "Processing Record 268 - northam\n",
      "Processing Record 269 - ust-kuyga\n",
      "Processing Record 270 - otterup\n",
      "Processing Record 271 - komsomolskiy\n",
      "Processing Record 272 - beckley\n",
      "Processing Record 273 - vila franca do campo\n",
      "Processing Record 274 - samarai\n",
      "Processing Record 275 - banda aceh\n",
      "rungata not found. Skipping..\n",
      "Processing Record 277 - anloga\n",
      "Processing Record 278 - carnarvon\n",
      "skalistyy not found. Skipping..\n",
      "Processing Record 280 - polunochnoye\n",
      "Processing Record 281 - changuinola\n",
      "Processing Record 282 - sirpur\n",
      "Processing Record 283 - auki\n",
      "Processing Record 284 - pavelets\n",
      "Processing Record 285 - erzin\n",
      "Processing Record 286 - hambantota\n",
      "warqla not found. Skipping..\n",
      "Processing Record 288 - gejiu\n",
      "Processing Record 289 - upernavik\n",
      "Processing Record 290 - rawson\n",
      "Processing Record 291 - lahat\n",
      "Processing Record 292 - san carlos del zulia\n",
      "Processing Record 293 - bereznik\n",
      "Processing Record 294 - santa maria\n",
      "Processing Record 295 - berbera\n",
      "Processing Record 296 - victoria\n",
      "Processing Record 297 - great falls\n",
      "Processing Record 298 - cherskiy\n",
      "Processing Record 299 - barrow\n",
      "Processing Record 300 - jodhpur\n",
      "Processing Record 301 - bahir dar\n",
      "Processing Record 302 - kaitangata\n",
      "Processing Record 303 - karacabey\n",
      "Processing Record 304 - japura\n",
      "Processing Record 305 - dzaoudzi\n",
      "Processing Record 306 - amahai\n",
      "Processing Record 307 - hay river\n",
      "Processing Record 308 - kumluca\n",
      "Processing Record 309 - praia da vitoria\n",
      "Processing Record 310 - bambous virieux\n",
      "Processing Record 311 - port keats\n",
      "Processing Record 312 - akyab\n",
      "Processing Record 313 - carman\n",
      "Processing Record 314 - arlit\n",
      "Processing Record 315 - alamosa\n",
      "Processing Record 316 - portland\n",
      "Processing Record 317 - san luis\n",
      "Processing Record 318 - rocha\n",
      "Processing Record 319 - sisauli\n",
      "Processing Record 320 - ostrovnoy\n",
      "Processing Record 321 - wanxian\n",
      "Processing Record 322 - inverell\n",
      "Processing Record 323 - lazaro cardenas\n",
      "Processing Record 324 - coihueco\n",
      "viligili not found. Skipping..\n",
      "Processing Record 326 - marfino\n",
      "Processing Record 327 - labuan\n",
      "Processing Record 328 - puerto madryn\n",
      "Processing Record 329 - bonthe\n",
      "Processing Record 330 - sinnamary\n",
      "Processing Record 331 - vyshkov\n",
      "Processing Record 332 - tasiilaq\n",
      "Processing Record 333 - jamai\n",
      "Processing Record 334 - rio grande\n",
      "Processing Record 335 - zhovtneve\n",
      "blonduos not found. Skipping..\n",
      "Processing Record 337 - kungurtug\n",
      "Processing Record 338 - chabahar\n",
      "Processing Record 339 - kavaratti\n",
      "Processing Record 340 - grand gaube\n",
      "Processing Record 341 - cap malheureux\n",
      "Processing Record 342 - bulgan\n",
      "Processing Record 343 - faanui\n",
      "Processing Record 344 - neuquen\n",
      "Processing Record 345 - monrovia\n",
      "Processing Record 346 - bilma\n",
      "Processing Record 347 - husum\n",
      "Processing Record 348 - gat\n",
      "Processing Record 349 - longyearbyen\n",
      "Processing Record 350 - mount gambier\n",
      "Processing Record 351 - ayagoz\n",
      "Processing Record 352 - taksimo\n",
      "Processing Record 353 - vicosa\n",
      "Processing Record 354 - mende\n",
      "Processing Record 355 - ginir\n",
      "Processing Record 356 - kikwit\n",
      "Processing Record 357 - mkushi\n",
      "Processing Record 358 - port said\n",
      "karauzyak not found. Skipping..\n",
      "louisbourg not found. Skipping..\n",
      "Processing Record 361 - kautokeino\n",
      "Processing Record 362 - san-pedro\n",
      "Processing Record 363 - souris\n",
      "Processing Record 364 - manta\n",
      "Processing Record 365 - narsaq\n",
      "Processing Record 366 - karratha\n",
      "Processing Record 367 - puri\n",
      "Processing Record 368 - kalianget\n",
      "Processing Record 369 - goderich\n",
      "Processing Record 370 - gilgit\n",
      "Processing Record 371 - dakar\n",
      "Processing Record 372 - kisaran\n",
      "Processing Record 373 - vestmannaeyjar\n",
      "marcona not found. Skipping..\n",
      "Processing Record 375 - orleans\n",
      "Processing Record 376 - bethel\n",
      "Processing Record 377 - shelburne\n",
      "Processing Record 378 - lancaster\n",
      "Processing Record 379 - miandrivazo\n",
      "Processing Record 380 - seoul\n",
      "Processing Record 381 - cachira\n",
      "Processing Record 382 - batemans bay\n",
      "Processing Record 383 - puksoozero\n",
      "Processing Record 384 - airai\n",
      "Processing Record 385 - pochutla\n",
      "Processing Record 386 - kaspiyskiy\n",
      "Processing Record 387 - pevek\n",
      "Processing Record 388 - marsh harbour\n",
      "Processing Record 389 - labuhan\n",
      "Processing Record 390 - bridlington\n",
      "Processing Record 391 - walvis bay\n",
      "Processing Record 392 - kulhudhuffushi\n",
      "Processing Record 393 - omsukchan\n",
      "Processing Record 394 - bonavista\n",
      "Processing Record 395 - namibe\n",
      "Processing Record 396 - srednekolymsk\n",
      "Processing Record 397 - kaseda\n",
      "Processing Record 398 - nueve de julio\n",
      "Processing Record 399 - umm kaddadah\n",
      "Processing Record 400 - khilok\n",
      "Processing Record 401 - elko\n",
      "Processing Record 402 - nuuk\n",
      "Processing Record 403 - santa isabel do rio negro\n",
      "Processing Record 404 - alofi\n",
      "Processing Record 405 - laredo\n",
      "Processing Record 406 - souillac\n",
      "Processing Record 407 - pisco\n",
      "Processing Record 408 - zaragoza\n",
      "Processing Record 409 - dolores\n",
      "Processing Record 410 - guerrero negro\n",
      "Processing Record 411 - rio gallegos\n",
      "Processing Record 412 - mana\n",
      "Processing Record 413 - arenapolis\n",
      "Processing Record 414 - port elizabeth\n",
      "Processing Record 415 - north bend\n",
      "Processing Record 416 - forio\n",
      "Processing Record 417 - manokwari\n",
      "Processing Record 418 - zavetnoye\n",
      "Processing Record 419 - berlevag\n",
      "Processing Record 420 - nobres\n",
      "Processing Record 421 - kamenka\n",
      "Processing Record 422 - mwinilunga\n",
      "Processing Record 423 - manoel urbano\n",
      "Processing Record 424 - lompoc\n",
      "Processing Record 425 - dicabisagan\n",
      "Processing Record 426 - greenville\n",
      "Processing Record 427 - tommot\n",
      "Processing Record 428 - oudtshoorn\n",
      "Processing Record 429 - sheregesh\n",
      "Processing Record 430 - labelle\n",
      "Processing Record 431 - tarimbaro\n",
      "Processing Record 432 - kaeo\n",
      "Processing Record 433 - mehamn\n",
      "Processing Record 434 - rorvik\n",
      "babanusah not found. Skipping..\n",
      "Processing Record 436 - sobolevo\n",
      "Processing Record 437 - zanjan\n",
      "Processing Record 438 - tyukhtet\n",
      "Processing Record 439 - colares\n",
      "Processing Record 440 - tateyama\n",
      "Processing Record 441 - carutapera\n",
      "utiroa not found. Skipping..\n",
      "Processing Record 443 - big spring\n",
      "Processing Record 444 - andenes\n",
      "Processing Record 445 - uglich\n",
      "Processing Record 446 - pemba\n",
      "burica not found. Skipping..\n",
      "Processing Record 448 - kiunga\n",
      "Processing Record 449 - fernie\n",
      "Processing Record 450 - waidhofen\n",
      "Processing Record 451 - bocas del toro\n",
      "Processing Record 452 - tavricheskoye\n",
      "Processing Record 453 - sao filipe\n",
      "Processing Record 454 - college\n",
      "Processing Record 455 - bukoba\n",
      "Processing Record 456 - wollongong\n",
      "Processing Record 457 - taihe\n",
      "Processing Record 458 - my tho\n",
      "Processing Record 459 - roald\n",
      "Processing Record 460 - riberalta\n",
      "Processing Record 461 - aklavik\n",
      "Processing Record 462 - yerbogachen\n",
      "guichicovi not found. Skipping..\n",
      "Processing Record 464 - ayan\n",
      "tidore not found. Skipping..\n",
      "Processing Record 466 - narva-joesuu\n",
      "Processing Record 467 - champerico\n",
      "Processing Record 468 - constitucion\n",
      "Processing Record 469 - barcelos\n",
      "Processing Record 470 - itarema\n",
      "Processing Record 471 - gayeri\n",
      "Processing Record 472 - palmer\n",
      "Processing Record 473 - yarmouth\n",
      "Processing Record 474 - olafsvik\n",
      "Processing Record 475 - jega\n",
      "Processing Record 476 - mildura\n",
      "Processing Record 477 - chifeng\n",
      "Processing Record 478 - astana\n",
      "Processing Record 479 - requena\n",
      "Processing Record 480 - apiai\n",
      "Processing Record 481 - kaputa\n",
      "Processing Record 482 - berdigestyakh\n",
      "Processing Record 483 - cabo san lucas\n",
      "Processing Record 484 - zhangye\n",
      "Processing Record 485 - atasu\n",
      "Processing Record 486 - celestun\n",
      "Processing Record 487 - dubbo\n",
      "Processing Record 488 - tura\n",
      "Processing Record 489 - haverfordwest\n",
      "Processing Record 490 - isangel\n",
      "Processing Record 491 - saint joseph\n",
      "Processing Record 492 - moura\n",
      "Processing Record 493 - nador\n",
      "Processing Record 494 - zhigansk\n",
      "Processing Record 495 - lagunas\n",
      "Processing Record 496 - brae\n",
      "Processing Record 497 - zilair\n",
      "Processing Record 498 - saint-felicien\n",
      "Processing Record 499 - dunyapur\n",
      "Processing Record 500 - tab\n",
      "Processing Record 501 - vanavara\n",
      "Processing Record 502 - pingliang\n",
      "Processing Record 503 - villaviciosa\n",
      "Processing Record 504 - mersing\n",
      "Processing Record 505 - phan thiet\n",
      "Processing Record 506 - lorengau\n",
      "Processing Record 507 - yumen\n",
      "Processing Record 508 - kachiry\n",
      "Processing Record 509 - balkhash\n",
      "Processing Record 510 - saryg-sep\n",
      "bacuit not found. Skipping..\n",
      "Processing Record 512 - alenquer\n",
      "Processing Record 513 - vanimo\n",
      "Processing Record 514 - gushikawa\n",
      "Processing Record 515 - sangmelima\n",
      "Processing Record 516 - panzhihua\n",
      "nizhneyansk not found. Skipping..\n",
      "Processing Record 518 - snasa\n",
      "Processing Record 519 - nynashamn\n",
      "Processing Record 520 - chateauroux\n",
      "Processing Record 521 - kozhevnikovo\n",
      "Processing Record 522 - la ronge\n",
      "Processing Record 523 - vardo\n",
      "Processing Record 524 - bereda\n",
      "kamenskoye not found. Skipping..\n",
      "Processing Record 526 - zhezkazgan\n",
      "Processing Record 527 - luganville\n",
      "Processing Record 528 - nouadhibou\n",
      "Processing Record 529 - murray bridge\n",
      "Processing Record 530 - kampot\n",
      "Processing Record 531 - newport\n",
      "Processing Record 532 - beloha\n",
      "Processing Record 533 - magistralnyy\n",
      "Processing Record 534 - jyvaskyla\n",
      "Processing Record 535 - mabaruma\n",
      "Processing Record 536 - sampit\n",
      "Processing Record 537 - foix\n",
      "Processing Record 538 - gayny\n",
      "Processing Record 539 - flinders\n",
      "Processing Record 540 - diego de almagro\n",
      "Processing Record 541 - amurzet\n",
      "Processing Record 542 - omboue\n",
      "Processing Record 543 - lysyye gory\n",
      "Processing Record 544 - mumford\n",
      "Processing Record 545 - bulungu\n",
      "Processing Record 546 - marystown\n",
      "Processing Record 547 - port-cartier\n",
      "Processing Record 548 - ewa beach\n",
      "Processing Record 549 - safaga\n",
      "Processing Record 550 - rabat\n",
      "aflu not found. Skipping..\n",
      "Processing Record 552 - lasa\n",
      "Processing Record 553 - ustye\n",
      "Processing Record 554 - suntar\n",
      "Processing Record 555 - siguiri\n",
      "Processing Record 556 - malaya vishera\n",
      "Processing Record 557 - sinop\n",
      "Processing Record 558 - clyde river\n",
      "Processing Record 559 - sikonge\n",
      "Processing Record 560 - baruun-urt\n",
      "yialos not found. Skipping..\n",
      "Processing Record 562 - broome\n",
      "Processing Record 563 - alugan\n",
      "Processing Record 564 - chumikan\n",
      "Processing Record 565 - kidal\n",
      "Processing Record 566 - maracaju\n",
      "Processing Record 567 - baghdad\n",
      "Processing Record 568 - port lincoln\n",
      "Processing Record 569 - urumqi\n",
      "Processing Record 570 - santa cruz del sur\n",
      "Processing Record 571 - pajapan\n",
      "Processing Record 572 - tiarei\n",
      "longlac not found. Skipping..\n",
      "Processing Record 574 - mitu\n",
      "Processing Record 575 - comodoro rivadavia\n",
      "Processing Record 576 - southbury\n",
      "Processing Record 577 - san matias\n",
      "pariquera-acu not found. Skipping..\n",
      "Processing Record 579 - patea\n",
      "Processing Record 580 - george town\n",
      "Processing Record 581 - warrington\n",
      "Processing Record 582 - morondava\n",
      "Processing Record 583 - yadgir\n",
      "Processing Record 584 - kirovskiy\n",
      "Processing Record 585 - saint-joseph\n",
      "Processing Record 586 - mandalgovi\n",
      "Processing Record 587 - cockburn town\n",
      "Processing Record 588 - coalinga\n",
      "Processing Record 589 - amapa\n",
      "Processing Record 590 - raymondville\n",
      "Processing Record 591 - weiser\n",
      "Processing Record 592 - islamkot\n",
      "Processing Record 593 - fortuna\n",
      "Processing Record 594 - nosy varika\n",
      "Processing Record 595 - cukai\n",
      "Processing Record 596 - marzuq\n",
      "Processing Record 597 - beira\n",
      "Processing Record 598 - maceio\n",
      "Processing Record 599 - itupiranga\n",
      "Processing Record 600 - axim\n",
      "halalo not found. Skipping..\n",
      "Processing Record 602 - thomasville\n",
      "Processing Record 603 - aktash\n",
      "jiddah not found. Skipping..\n",
      "Processing Record 605 - casablanca\n",
      "Processing Record 606 - port augusta\n",
      "hunza not found. Skipping..\n",
      "Processing Record 608 - teguldet\n",
      "Processing Record 609 - hays\n",
      "Processing Record 610 - mareeba\n",
      "Processing Record 611 - gigmoto\n",
      "Processing Record 612 - dindori\n",
      "Processing Record 613 - novorudnyy\n",
      "Processing Record 614 - guisa\n",
      "falealupo not found. Skipping..\n",
      "Processing Record 616 - sabha\n",
      "Processing Record 617 - abu samrah\n",
      "marathokambos not found. Skipping..\n",
      "Processing Record 619 - kurilsk\n",
      "Processing Record 620 - shahr-e babak\n",
      "Processing Record 621 - ngunguru\n",
      "Processing Record 622 - castelo branco\n",
      "tabarqah not found. Skipping..\n",
      "Processing Record 624 - aitape\n",
      "Processing Record 625 - taft\n",
      "Processing Record 626 - shetpe\n",
      "Processing Record 627 - saint marys\n",
      "Processing Record 628 - soverato\n",
      "Processing Record 629 - det udom\n",
      "Processing Record 630 - sault sainte marie\n",
      "Processing Record 631 - hanzhong\n",
      "Processing Record 632 - fort-shevchenko\n",
      "Processing Record 633 - owosso\n",
      "Processing Record 634 - flin flon\n",
      "Processing Record 635 - uberlandia\n",
      "Processing Record 636 - tagusao\n",
      "Processing Record 637 - santa rosa\n",
      "Processing Record 638 - volsk\n",
      "Processing Record 639 - karaton\n",
      "Processing Record 640 - san andres\n",
      "Processing Record 641 - monterey\n",
      "Processing Record 642 - pampa\n",
      "Processing Record 643 - los llanos de aridane\n",
      "Processing Record 644 - kasulu\n",
      "bolungarvik not found. Skipping..\n",
      "Processing Record 646 - prieska\n",
      "Processing Record 647 - puerto parra\n",
      "Processing Record 648 - daru\n"
     ]
    }
   ],
   "source": [
    "url = \"http://api.openweathermap.org/data/2.5/weather?\"\n",
    "units = 'imperial'\n",
    "\n",
    "latitude = []\n",
    "longitude = []\n",
    "max_temp = []\n",
    "humidity = []\n",
    "cloudiness = []\n",
    "wind_speed = []\n",
    "country = []\n",
    "date = []\n",
    "cities_list = []\n",
    "\n",
    "counter = 1\n",
    "for city in cities:\n",
    "\n",
    "    query_url = url + \"appid=\" + weather_api_key + \"&units=\" + units + \"&q=\" + city\n",
    "    weather_response = requests.get(query_url)\n",
    "    weather_json = weather_response.json()\n",
    "\n",
    "    try:\n",
    "        latitude.append(weather_json['coord']['lat'])\n",
    "        longitude.append(weather_json['coord']['lon'])\n",
    "        max_temp.append(weather_json['main']['temp_max'])\n",
    "        humidity.append(weather_json['main']['humidity'])\n",
    "        cloudiness.append(weather_json['clouds']['all'])\n",
    "        wind_speed.append(weather_json['wind']['speed'])\n",
    "        country.append(weather_json['sys']['country'])\n",
    "        date.append(weather_json['dt'])\n",
    "        cities_list.append(weather_json['name'])\n",
    "        print(f'Processing Record {counter} - {city}')\n",
    "        \n",
    "    except:\n",
    "        print(f'{city} not found. Skipping..')\n",
    "    counter += 1\n",
    "        "
   ]
  },
  {
   "cell_type": "markdown",
   "metadata": {},
   "source": [
    "### Convert Raw Data to DataFrame\n",
    "* Export the city data into a .csv.\n",
    "* Display the DataFrame"
   ]
  },
  {
   "cell_type": "code",
   "execution_count": 7,
   "metadata": {},
   "outputs": [],
   "source": [
    "weather_df = pd.DataFrame({\n",
    "    'City' : cities_list,\n",
    "    'Lat' : latitude,\n",
    "    'Lng' : longitude,\n",
    "    'Max Temp' : max_temp,\n",
    "    'Humidity' : humidity,\n",
    "    'Cloudiness' : cloudiness,\n",
    "    'Wind Speed' : wind_speed,\n",
    "    'Country' : country,\n",
    "    'Date' : date,\n",
    "})\n",
    "\n",
    "weather_df.to_csv(output_csv)"
   ]
  },
  {
   "cell_type": "code",
   "execution_count": 8,
   "metadata": {},
   "outputs": [
    {
     "data": {
      "text/html": [
       "<div>\n",
       "<style scoped>\n",
       "    .dataframe tbody tr th:only-of-type {\n",
       "        vertical-align: middle;\n",
       "    }\n",
       "\n",
       "    .dataframe tbody tr th {\n",
       "        vertical-align: top;\n",
       "    }\n",
       "\n",
       "    .dataframe thead th {\n",
       "        text-align: right;\n",
       "    }\n",
       "</style>\n",
       "<table border=\"1\" class=\"dataframe\">\n",
       "  <thead>\n",
       "    <tr style=\"text-align: right;\">\n",
       "      <th></th>\n",
       "      <th>City</th>\n",
       "      <th>Lat</th>\n",
       "      <th>Lng</th>\n",
       "      <th>Max Temp</th>\n",
       "      <th>Humidity</th>\n",
       "      <th>Cloudiness</th>\n",
       "      <th>Wind Speed</th>\n",
       "      <th>Country</th>\n",
       "      <th>Date</th>\n",
       "    </tr>\n",
       "  </thead>\n",
       "  <tbody>\n",
       "    <tr>\n",
       "      <th>0</th>\n",
       "      <td>Rikitea</td>\n",
       "      <td>-23.1203</td>\n",
       "      <td>-134.9692</td>\n",
       "      <td>74.19</td>\n",
       "      <td>83</td>\n",
       "      <td>100</td>\n",
       "      <td>12.50</td>\n",
       "      <td>PF</td>\n",
       "      <td>1650780222</td>\n",
       "    </tr>\n",
       "    <tr>\n",
       "      <th>1</th>\n",
       "      <td>Kropotkin</td>\n",
       "      <td>45.4375</td>\n",
       "      <td>40.5756</td>\n",
       "      <td>58.95</td>\n",
       "      <td>64</td>\n",
       "      <td>71</td>\n",
       "      <td>11.27</td>\n",
       "      <td>RU</td>\n",
       "      <td>1650780223</td>\n",
       "    </tr>\n",
       "    <tr>\n",
       "      <th>2</th>\n",
       "      <td>George Town</td>\n",
       "      <td>5.4112</td>\n",
       "      <td>100.3354</td>\n",
       "      <td>89.53</td>\n",
       "      <td>70</td>\n",
       "      <td>20</td>\n",
       "      <td>10.36</td>\n",
       "      <td>MY</td>\n",
       "      <td>1650780050</td>\n",
       "    </tr>\n",
       "    <tr>\n",
       "      <th>3</th>\n",
       "      <td>Sisimiut</td>\n",
       "      <td>66.9395</td>\n",
       "      <td>-53.6735</td>\n",
       "      <td>27.81</td>\n",
       "      <td>96</td>\n",
       "      <td>100</td>\n",
       "      <td>5.50</td>\n",
       "      <td>GL</td>\n",
       "      <td>1650780224</td>\n",
       "    </tr>\n",
       "    <tr>\n",
       "      <th>4</th>\n",
       "      <td>Teluknaga</td>\n",
       "      <td>-6.0989</td>\n",
       "      <td>106.6381</td>\n",
       "      <td>94.10</td>\n",
       "      <td>70</td>\n",
       "      <td>20</td>\n",
       "      <td>4.61</td>\n",
       "      <td>ID</td>\n",
       "      <td>1650780225</td>\n",
       "    </tr>\n",
       "  </tbody>\n",
       "</table>\n",
       "</div>"
      ],
      "text/plain": [
       "          City      Lat       Lng  Max Temp  Humidity  Cloudiness  Wind Speed  \\\n",
       "0      Rikitea -23.1203 -134.9692     74.19        83         100       12.50   \n",
       "1    Kropotkin  45.4375   40.5756     58.95        64          71       11.27   \n",
       "2  George Town   5.4112  100.3354     89.53        70          20       10.36   \n",
       "3     Sisimiut  66.9395  -53.6735     27.81        96         100        5.50   \n",
       "4    Teluknaga  -6.0989  106.6381     94.10        70          20        4.61   \n",
       "\n",
       "  Country        Date  \n",
       "0      PF  1650780222  \n",
       "1      RU  1650780223  \n",
       "2      MY  1650780050  \n",
       "3      GL  1650780224  \n",
       "4      ID  1650780225  "
      ]
     },
     "execution_count": 8,
     "metadata": {},
     "output_type": "execute_result"
    }
   ],
   "source": [
    "weather_df.head()"
   ]
  },
  {
   "cell_type": "code",
   "execution_count": 9,
   "metadata": {},
   "outputs": [
    {
     "data": {
      "text/html": [
       "<div>\n",
       "<style scoped>\n",
       "    .dataframe tbody tr th:only-of-type {\n",
       "        vertical-align: middle;\n",
       "    }\n",
       "\n",
       "    .dataframe tbody tr th {\n",
       "        vertical-align: top;\n",
       "    }\n",
       "\n",
       "    .dataframe thead th {\n",
       "        text-align: right;\n",
       "    }\n",
       "</style>\n",
       "<table border=\"1\" class=\"dataframe\">\n",
       "  <thead>\n",
       "    <tr style=\"text-align: right;\">\n",
       "      <th></th>\n",
       "      <th>Lat</th>\n",
       "      <th>Lng</th>\n",
       "      <th>Max Temp</th>\n",
       "      <th>Humidity</th>\n",
       "      <th>Cloudiness</th>\n",
       "      <th>Wind Speed</th>\n",
       "      <th>Date</th>\n",
       "    </tr>\n",
       "  </thead>\n",
       "  <tbody>\n",
       "    <tr>\n",
       "      <th>count</th>\n",
       "      <td>560.000000</td>\n",
       "      <td>560.000000</td>\n",
       "      <td>560.000000</td>\n",
       "      <td>560.000000</td>\n",
       "      <td>560.000000</td>\n",
       "      <td>560.000000</td>\n",
       "      <td>5.600000e+02</td>\n",
       "    </tr>\n",
       "    <tr>\n",
       "      <th>mean</th>\n",
       "      <td>21.661876</td>\n",
       "      <td>15.112523</td>\n",
       "      <td>61.124232</td>\n",
       "      <td>69.666071</td>\n",
       "      <td>56.008929</td>\n",
       "      <td>7.648786</td>\n",
       "      <td>1.650780e+09</td>\n",
       "    </tr>\n",
       "    <tr>\n",
       "      <th>std</th>\n",
       "      <td>32.797083</td>\n",
       "      <td>88.284411</td>\n",
       "      <td>20.697593</td>\n",
       "      <td>23.154090</td>\n",
       "      <td>39.301253</td>\n",
       "      <td>5.098163</td>\n",
       "      <td>1.528529e+02</td>\n",
       "    </tr>\n",
       "    <tr>\n",
       "      <th>min</th>\n",
       "      <td>-54.800000</td>\n",
       "      <td>-179.166700</td>\n",
       "      <td>-9.110000</td>\n",
       "      <td>1.000000</td>\n",
       "      <td>0.000000</td>\n",
       "      <td>0.000000</td>\n",
       "      <td>1.650780e+09</td>\n",
       "    </tr>\n",
       "    <tr>\n",
       "      <th>25%</th>\n",
       "      <td>-4.188075</td>\n",
       "      <td>-63.638150</td>\n",
       "      <td>47.972500</td>\n",
       "      <td>60.750000</td>\n",
       "      <td>17.000000</td>\n",
       "      <td>3.760000</td>\n",
       "      <td>1.650780e+09</td>\n",
       "    </tr>\n",
       "    <tr>\n",
       "      <th>50%</th>\n",
       "      <td>27.502400</td>\n",
       "      <td>20.681500</td>\n",
       "      <td>64.815000</td>\n",
       "      <td>75.000000</td>\n",
       "      <td>68.000000</td>\n",
       "      <td>6.850000</td>\n",
       "      <td>1.650780e+09</td>\n",
       "    </tr>\n",
       "    <tr>\n",
       "      <th>75%</th>\n",
       "      <td>47.362350</td>\n",
       "      <td>84.137475</td>\n",
       "      <td>75.840000</td>\n",
       "      <td>87.000000</td>\n",
       "      <td>98.000000</td>\n",
       "      <td>10.160000</td>\n",
       "      <td>1.650781e+09</td>\n",
       "    </tr>\n",
       "    <tr>\n",
       "      <th>max</th>\n",
       "      <td>78.218600</td>\n",
       "      <td>179.316700</td>\n",
       "      <td>107.220000</td>\n",
       "      <td>100.000000</td>\n",
       "      <td>100.000000</td>\n",
       "      <td>24.160000</td>\n",
       "      <td>1.650781e+09</td>\n",
       "    </tr>\n",
       "  </tbody>\n",
       "</table>\n",
       "</div>"
      ],
      "text/plain": [
       "              Lat         Lng    Max Temp    Humidity  Cloudiness  Wind Speed  \\\n",
       "count  560.000000  560.000000  560.000000  560.000000  560.000000  560.000000   \n",
       "mean    21.661876   15.112523   61.124232   69.666071   56.008929    7.648786   \n",
       "std     32.797083   88.284411   20.697593   23.154090   39.301253    5.098163   \n",
       "min    -54.800000 -179.166700   -9.110000    1.000000    0.000000    0.000000   \n",
       "25%     -4.188075  -63.638150   47.972500   60.750000   17.000000    3.760000   \n",
       "50%     27.502400   20.681500   64.815000   75.000000   68.000000    6.850000   \n",
       "75%     47.362350   84.137475   75.840000   87.000000   98.000000   10.160000   \n",
       "max     78.218600  179.316700  107.220000  100.000000  100.000000   24.160000   \n",
       "\n",
       "               Date  \n",
       "count  5.600000e+02  \n",
       "mean   1.650780e+09  \n",
       "std    1.528529e+02  \n",
       "min    1.650780e+09  \n",
       "25%    1.650780e+09  \n",
       "50%    1.650780e+09  \n",
       "75%    1.650781e+09  \n",
       "max    1.650781e+09  "
      ]
     },
     "execution_count": 9,
     "metadata": {},
     "output_type": "execute_result"
    }
   ],
   "source": [
    "weather_df.describe()"
   ]
  },
  {
   "cell_type": "code",
   "execution_count": 10,
   "metadata": {},
   "outputs": [
    {
     "data": {
      "text/html": [
       "<div>\n",
       "<style scoped>\n",
       "    .dataframe tbody tr th:only-of-type {\n",
       "        vertical-align: middle;\n",
       "    }\n",
       "\n",
       "    .dataframe tbody tr th {\n",
       "        vertical-align: top;\n",
       "    }\n",
       "\n",
       "    .dataframe thead th {\n",
       "        text-align: right;\n",
       "    }\n",
       "</style>\n",
       "<table border=\"1\" class=\"dataframe\">\n",
       "  <thead>\n",
       "    <tr style=\"text-align: right;\">\n",
       "      <th></th>\n",
       "      <th>City</th>\n",
       "      <th>Lat</th>\n",
       "      <th>Lng</th>\n",
       "      <th>Max Temp</th>\n",
       "      <th>Humidity</th>\n",
       "      <th>Cloudiness</th>\n",
       "      <th>Wind Speed</th>\n",
       "      <th>Country</th>\n",
       "      <th>Date</th>\n",
       "    </tr>\n",
       "  </thead>\n",
       "  <tbody>\n",
       "  </tbody>\n",
       "</table>\n",
       "</div>"
      ],
      "text/plain": [
       "Empty DataFrame\n",
       "Columns: [City, Lat, Lng, Max Temp, Humidity, Cloudiness, Wind Speed, Country, Date]\n",
       "Index: []"
      ]
     },
     "execution_count": 10,
     "metadata": {},
     "output_type": "execute_result"
    }
   ],
   "source": [
    "humid_check = weather_df.loc[weather_df['Humidity']> 100,:]\n",
    "humid_check"
   ]
  },
  {
   "cell_type": "markdown",
   "metadata": {},
   "source": [
    "## Inspect the data and remove the cities where the humidity > 100%.\n",
    "----\n",
    "Skip this step if there are no cities that have humidity > 100%. "
   ]
  },
  {
   "cell_type": "code",
   "execution_count": 6,
   "metadata": {},
   "outputs": [
    {
     "data": {
      "text/html": [
       "<div>\n",
       "<style scoped>\n",
       "    .dataframe tbody tr th:only-of-type {\n",
       "        vertical-align: middle;\n",
       "    }\n",
       "\n",
       "    .dataframe tbody tr th {\n",
       "        vertical-align: top;\n",
       "    }\n",
       "\n",
       "    .dataframe thead th {\n",
       "        text-align: right;\n",
       "    }\n",
       "</style>\n",
       "<table border=\"1\" class=\"dataframe\">\n",
       "  <thead>\n",
       "    <tr style=\"text-align: right;\">\n",
       "      <th></th>\n",
       "      <th>Lat</th>\n",
       "      <th>Lng</th>\n",
       "      <th>Max Temp</th>\n",
       "      <th>Humidity</th>\n",
       "      <th>Cloudiness</th>\n",
       "      <th>Wind Speed</th>\n",
       "      <th>Date</th>\n",
       "    </tr>\n",
       "  </thead>\n",
       "  <tbody>\n",
       "    <tr>\n",
       "      <th>count</th>\n",
       "      <td>550.000000</td>\n",
       "      <td>550.000000</td>\n",
       "      <td>550.000000</td>\n",
       "      <td>550.000000</td>\n",
       "      <td>550.000000</td>\n",
       "      <td>550.000000</td>\n",
       "      <td>5.500000e+02</td>\n",
       "    </tr>\n",
       "    <tr>\n",
       "      <th>mean</th>\n",
       "      <td>19.973545</td>\n",
       "      <td>17.124400</td>\n",
       "      <td>58.331400</td>\n",
       "      <td>67.890909</td>\n",
       "      <td>52.141818</td>\n",
       "      <td>8.544800</td>\n",
       "      <td>1.585764e+09</td>\n",
       "    </tr>\n",
       "    <tr>\n",
       "      <th>std</th>\n",
       "      <td>33.284840</td>\n",
       "      <td>91.595451</td>\n",
       "      <td>25.795297</td>\n",
       "      <td>20.864881</td>\n",
       "      <td>35.766469</td>\n",
       "      <td>6.078869</td>\n",
       "      <td>5.539674e+01</td>\n",
       "    </tr>\n",
       "    <tr>\n",
       "      <th>min</th>\n",
       "      <td>-54.800000</td>\n",
       "      <td>-179.170000</td>\n",
       "      <td>-11.340000</td>\n",
       "      <td>9.000000</td>\n",
       "      <td>0.000000</td>\n",
       "      <td>0.160000</td>\n",
       "      <td>1.585764e+09</td>\n",
       "    </tr>\n",
       "    <tr>\n",
       "      <th>25%</th>\n",
       "      <td>-8.077500</td>\n",
       "      <td>-64.627500</td>\n",
       "      <td>42.800000</td>\n",
       "      <td>55.000000</td>\n",
       "      <td>20.000000</td>\n",
       "      <td>4.525000</td>\n",
       "      <td>1.585764e+09</td>\n",
       "    </tr>\n",
       "    <tr>\n",
       "      <th>50%</th>\n",
       "      <td>23.630000</td>\n",
       "      <td>19.635000</td>\n",
       "      <td>64.940000</td>\n",
       "      <td>72.000000</td>\n",
       "      <td>57.000000</td>\n",
       "      <td>7.325000</td>\n",
       "      <td>1.585764e+09</td>\n",
       "    </tr>\n",
       "    <tr>\n",
       "      <th>75%</th>\n",
       "      <td>48.672500</td>\n",
       "      <td>97.350000</td>\n",
       "      <td>78.800000</td>\n",
       "      <td>83.000000</td>\n",
       "      <td>86.750000</td>\n",
       "      <td>11.410000</td>\n",
       "      <td>1.585764e+09</td>\n",
       "    </tr>\n",
       "    <tr>\n",
       "      <th>max</th>\n",
       "      <td>78.220000</td>\n",
       "      <td>179.320000</td>\n",
       "      <td>102.200000</td>\n",
       "      <td>100.000000</td>\n",
       "      <td>100.000000</td>\n",
       "      <td>46.080000</td>\n",
       "      <td>1.585764e+09</td>\n",
       "    </tr>\n",
       "  </tbody>\n",
       "</table>\n",
       "</div>"
      ],
      "text/plain": [
       "              Lat         Lng    Max Temp    Humidity  Cloudiness  Wind Speed  \\\n",
       "count  550.000000  550.000000  550.000000  550.000000  550.000000  550.000000   \n",
       "mean    19.973545   17.124400   58.331400   67.890909   52.141818    8.544800   \n",
       "std     33.284840   91.595451   25.795297   20.864881   35.766469    6.078869   \n",
       "min    -54.800000 -179.170000  -11.340000    9.000000    0.000000    0.160000   \n",
       "25%     -8.077500  -64.627500   42.800000   55.000000   20.000000    4.525000   \n",
       "50%     23.630000   19.635000   64.940000   72.000000   57.000000    7.325000   \n",
       "75%     48.672500   97.350000   78.800000   83.000000   86.750000   11.410000   \n",
       "max     78.220000  179.320000  102.200000  100.000000  100.000000   46.080000   \n",
       "\n",
       "               Date  \n",
       "count  5.500000e+02  \n",
       "mean   1.585764e+09  \n",
       "std    5.539674e+01  \n",
       "min    1.585764e+09  \n",
       "25%    1.585764e+09  \n",
       "50%    1.585764e+09  \n",
       "75%    1.585764e+09  \n",
       "max    1.585764e+09  "
      ]
     },
     "execution_count": 6,
     "metadata": {},
     "output_type": "execute_result"
    }
   ],
   "source": []
  },
  {
   "cell_type": "code",
   "execution_count": 17,
   "metadata": {},
   "outputs": [
    {
     "data": {
      "text/plain": [
       "Int64Index([], dtype='int64')"
      ]
     },
     "execution_count": 17,
     "metadata": {},
     "output_type": "execute_result"
    }
   ],
   "source": [
    "#  Get the indices of cities that have humidity over 100%.\n"
   ]
  },
  {
   "cell_type": "code",
   "execution_count": 19,
   "metadata": {},
   "outputs": [
    {
     "data": {
      "text/html": [
       "<div>\n",
       "<style scoped>\n",
       "    .dataframe tbody tr th:only-of-type {\n",
       "        vertical-align: middle;\n",
       "    }\n",
       "\n",
       "    .dataframe tbody tr th {\n",
       "        vertical-align: top;\n",
       "    }\n",
       "\n",
       "    .dataframe thead th {\n",
       "        text-align: right;\n",
       "    }\n",
       "</style>\n",
       "<table border=\"1\" class=\"dataframe\">\n",
       "  <thead>\n",
       "    <tr style=\"text-align: right;\">\n",
       "      <th></th>\n",
       "      <th>City</th>\n",
       "      <th>Lat</th>\n",
       "      <th>Lng</th>\n",
       "      <th>Max Temp</th>\n",
       "      <th>Humidity</th>\n",
       "      <th>Cloudiness</th>\n",
       "      <th>Wind Speed</th>\n",
       "      <th>Country</th>\n",
       "      <th>Date</th>\n",
       "    </tr>\n",
       "  </thead>\n",
       "  <tbody>\n",
       "    <tr>\n",
       "      <td>0</td>\n",
       "      <td>butaritari</td>\n",
       "      <td>3.07</td>\n",
       "      <td>172.79</td>\n",
       "      <td>83.32</td>\n",
       "      <td>74</td>\n",
       "      <td>84</td>\n",
       "      <td>10.42</td>\n",
       "      <td>KI</td>\n",
       "      <td>1593605283</td>\n",
       "    </tr>\n",
       "    <tr>\n",
       "      <td>1</td>\n",
       "      <td>yerbogachen</td>\n",
       "      <td>61.28</td>\n",
       "      <td>108.01</td>\n",
       "      <td>79.52</td>\n",
       "      <td>58</td>\n",
       "      <td>20</td>\n",
       "      <td>7.70</td>\n",
       "      <td>RU</td>\n",
       "      <td>1593605121</td>\n",
       "    </tr>\n",
       "    <tr>\n",
       "      <td>2</td>\n",
       "      <td>cape town</td>\n",
       "      <td>-33.93</td>\n",
       "      <td>18.42</td>\n",
       "      <td>73.00</td>\n",
       "      <td>77</td>\n",
       "      <td>27</td>\n",
       "      <td>4.70</td>\n",
       "      <td>ZA</td>\n",
       "      <td>1593605039</td>\n",
       "    </tr>\n",
       "    <tr>\n",
       "      <td>3</td>\n",
       "      <td>touba</td>\n",
       "      <td>8.28</td>\n",
       "      <td>-7.68</td>\n",
       "      <td>79.97</td>\n",
       "      <td>75</td>\n",
       "      <td>82</td>\n",
       "      <td>3.58</td>\n",
       "      <td>CI</td>\n",
       "      <td>1593605284</td>\n",
       "    </tr>\n",
       "    <tr>\n",
       "      <td>4</td>\n",
       "      <td>jamestown</td>\n",
       "      <td>42.10</td>\n",
       "      <td>-79.24</td>\n",
       "      <td>64.00</td>\n",
       "      <td>88</td>\n",
       "      <td>1</td>\n",
       "      <td>6.93</td>\n",
       "      <td>US</td>\n",
       "      <td>1593605284</td>\n",
       "    </tr>\n",
       "  </tbody>\n",
       "</table>\n",
       "</div>"
      ],
      "text/plain": [
       "          City    Lat     Lng  Max Temp  Humidity  Cloudiness  Wind Speed  \\\n",
       "0   butaritari   3.07  172.79     83.32        74          84       10.42   \n",
       "1  yerbogachen  61.28  108.01     79.52        58          20        7.70   \n",
       "2    cape town -33.93   18.42     73.00        77          27        4.70   \n",
       "3        touba   8.28   -7.68     79.97        75          82        3.58   \n",
       "4    jamestown  42.10  -79.24     64.00        88           1        6.93   \n",
       "\n",
       "  Country        Date  \n",
       "0      KI  1593605283  \n",
       "1      RU  1593605121  \n",
       "2      ZA  1593605039  \n",
       "3      CI  1593605284  \n",
       "4      US  1593605284  "
      ]
     },
     "execution_count": 19,
     "metadata": {},
     "output_type": "execute_result"
    }
   ],
   "source": [
    "# Make a new DataFrame equal to the city data to drop all humidity outliers by index.\n",
    "# Passing \"inplace=False\" will make a copy of the city_data DataFrame, which we call \"clean_city_data\".\n"
   ]
  },
  {
   "cell_type": "markdown",
   "metadata": {},
   "source": [
    "## Plotting the Data\n",
    "* Use proper labeling of the plots using plot titles (including date of analysis) and axes labels.\n",
    "* Save the plotted figures as .pngs."
   ]
  },
  {
   "cell_type": "markdown",
   "metadata": {},
   "source": [
    "## Latitude vs. Temperature Plot"
   ]
  },
  {
   "cell_type": "code",
   "execution_count": 11,
   "metadata": {},
   "outputs": [
    {
     "name": "stdout",
     "output_type": "stream",
     "text": [
      "(24/04/2022)\n"
     ]
    }
   ],
   "source": [
    "print(datetime.today().strftime('(%d/%m/%Y)'))\n",
    "date_today = datetime.today().strftime('(%d/%m/%Y)')"
   ]
  },
  {
   "cell_type": "code",
   "execution_count": 62,
   "metadata": {},
   "outputs": [
    {
     "data": {
      "image/png": "[encoded data removed]",
      "text/plain": [
       "<Figure size 432x288 with 1 Axes>"
      ]
     },
     "metadata": {
      "needs_background": "light"
     },
     "output_type": "display_data"
    }
   ],
   "source": [
    "x_value = weather_df['Lat']\n",
    "y_value = weather_df['Max Temp']\n",
    "\n",
    "plt.scatter(x_value, y_value, marker= 'o', facecolors = 'skyblue', edgecolors= 'black')\n",
    "plt.xlabel('Latitude')\n",
    "plt.ylabel('Max Temperature (F)')\n",
    "plt.grid()\n",
    "plt.title(f'City Latitude vs. Max Temperature {date_today}')\n",
    "plt.savefig('Latitude vs. Temp.png')"
   ]
  },
  {
   "cell_type": "markdown",
   "metadata": {},
   "source": [
    "Latitude vs Max Temperature: The plot shows that the temperature for cities close to the equator (0) do not experience extreme weather changes. These cities would only have wet and dry seasons."
   ]
  },
  {
   "cell_type": "markdown",
   "metadata": {},
   "source": [
    "## Latitude vs. Humidity Plot"
   ]
  },
  {
   "cell_type": "code",
   "execution_count": 14,
   "metadata": {},
   "outputs": [
    {
     "data": {
      "image/png": "[encoded data removed]",
      "text/plain": [
       "<Figure size 432x288 with 1 Axes>"
      ]
     },
     "metadata": {
      "needs_background": "light"
     },
     "output_type": "display_data"
    }
   ],
   "source": [
    "x_value = weather_df['Lat']\n",
    "hum_value = weather_df['Humidity']\n",
    "\n",
    "plt.scatter(x_value, hum_value, marker= 'o', facecolors = 'skyblue', edgecolors= 'black')\n",
    "plt.xlabel('Latitude')\n",
    "plt.ylabel('Humidity (%)')\n",
    "plt.grid()\n",
    "plt.title(f'City Latitude vs. Humidity {date_today}');\n",
    "plt.savefig('Latitude vs. Humidity.png')"
   ]
  },
  {
   "cell_type": "markdown",
   "metadata": {},
   "source": [
    "Latitude vs Humidity: The plot is showing that most cities have high humidity however it seems there is no clear relationship between humidity and latitude."
   ]
  },
  {
   "cell_type": "markdown",
   "metadata": {},
   "source": [
    "## Latitude vs. Cloudiness Plot"
   ]
  },
  {
   "cell_type": "code",
   "execution_count": 15,
   "metadata": {},
   "outputs": [
    {
     "data": {
      "image/png": "[encoded data removed]",
      "text/plain": [
       "<Figure size 432x288 with 1 Axes>"
      ]
     },
     "metadata": {
      "needs_background": "light"
     },
     "output_type": "display_data"
    }
   ],
   "source": [
    "x_value = weather_df['Lat']\n",
    "cloud_value = weather_df['Cloudiness']\n",
    "\n",
    "plt.scatter(x_value, cloud_value, marker= 'o', facecolors = 'skyblue', edgecolors= 'black')\n",
    "plt.xlabel('Latitude')\n",
    "plt.ylabel('Cloudiness (%)')\n",
    "plt.grid()\n",
    "plt.title(f'City Latitude vs. Cloudiness {date_today}');\n",
    "plt.savefig('Latitude vs. Cloudiness.png')"
   ]
  },
  {
   "cell_type": "markdown",
   "metadata": {},
   "source": [
    "Latitude vs Cloudiness: There is no relationship between latitude and cloudiness."
   ]
  },
  {
   "cell_type": "markdown",
   "metadata": {},
   "source": [
    "## Latitude vs. Wind Speed Plot"
   ]
  },
  {
   "cell_type": "code",
   "execution_count": 16,
   "metadata": {},
   "outputs": [
    {
     "data": {
      "image/png": "[encoded data removed]",
      "text/plain": [
       "<Figure size 432x288 with 1 Axes>"
      ]
     },
     "metadata": {
      "needs_background": "light"
     },
     "output_type": "display_data"
    }
   ],
   "source": [
    "x_value = weather_df['Lat']\n",
    "wind_value = weather_df['Wind Speed']\n",
    "\n",
    "plt.scatter(x_value, wind_value, marker= 'o', facecolors = 'skyblue', edgecolors= 'black')\n",
    "plt.xlabel('Latitude')\n",
    "plt.ylabel('wind Speed (mph)')\n",
    "plt.grid()\n",
    "plt.title(f'City Latitude vs. Wind Speed {date_today}');\n",
    "plt.savefig('Latitude vs. Wind Speed.png')"
   ]
  },
  {
   "cell_type": "markdown",
   "metadata": {},
   "source": [
    "Latitude vs. Wind Speed: There is no clear relationship between latitude and wind speed. This plot is showing that most of the cities do not have high wind speed."
   ]
  },
  {
   "cell_type": "markdown",
   "metadata": {},
   "source": [
    "## Linear Regression"
   ]
  },
  {
   "cell_type": "code",
   "execution_count": 20,
   "metadata": {},
   "outputs": [
    {
     "data": {
      "text/html": [
       "<div>\n",
       "<style scoped>\n",
       "    .dataframe tbody tr th:only-of-type {\n",
       "        vertical-align: middle;\n",
       "    }\n",
       "\n",
       "    .dataframe tbody tr th {\n",
       "        vertical-align: top;\n",
       "    }\n",
       "\n",
       "    .dataframe thead th {\n",
       "        text-align: right;\n",
       "    }\n",
       "</style>\n",
       "<table border=\"1\" class=\"dataframe\">\n",
       "  <thead>\n",
       "    <tr style=\"text-align: right;\">\n",
       "      <th></th>\n",
       "      <th>Lat</th>\n",
       "      <th>Max Temp</th>\n",
       "      <th>Humidity</th>\n",
       "      <th>Wind Speed</th>\n",
       "      <th>Cloudiness</th>\n",
       "    </tr>\n",
       "  </thead>\n",
       "  <tbody>\n",
       "    <tr>\n",
       "      <th>1</th>\n",
       "      <td>45.4375</td>\n",
       "      <td>58.95</td>\n",
       "      <td>64</td>\n",
       "      <td>11.27</td>\n",
       "      <td>71</td>\n",
       "    </tr>\n",
       "    <tr>\n",
       "      <th>2</th>\n",
       "      <td>5.4112</td>\n",
       "      <td>89.53</td>\n",
       "      <td>70</td>\n",
       "      <td>10.36</td>\n",
       "      <td>20</td>\n",
       "    </tr>\n",
       "    <tr>\n",
       "      <th>3</th>\n",
       "      <td>66.9395</td>\n",
       "      <td>27.81</td>\n",
       "      <td>96</td>\n",
       "      <td>5.50</td>\n",
       "      <td>100</td>\n",
       "    </tr>\n",
       "    <tr>\n",
       "      <th>5</th>\n",
       "      <td>17.0151</td>\n",
       "      <td>85.77</td>\n",
       "      <td>63</td>\n",
       "      <td>11.39</td>\n",
       "      <td>21</td>\n",
       "    </tr>\n",
       "    <tr>\n",
       "      <th>7</th>\n",
       "      <td>5.7180</td>\n",
       "      <td>76.69</td>\n",
       "      <td>73</td>\n",
       "      <td>7.78</td>\n",
       "      <td>95</td>\n",
       "    </tr>\n",
       "  </tbody>\n",
       "</table>\n",
       "</div>"
      ],
      "text/plain": [
       "       Lat  Max Temp  Humidity  Wind Speed  Cloudiness\n",
       "1  45.4375     58.95        64       11.27          71\n",
       "2   5.4112     89.53        70       10.36          20\n",
       "3  66.9395     27.81        96        5.50         100\n",
       "5  17.0151     85.77        63       11.39          21\n",
       "7   5.7180     76.69        73        7.78          95"
      ]
     },
     "execution_count": 20,
     "metadata": {},
     "output_type": "execute_result"
    }
   ],
   "source": [
    "nh_weatherdf = weather_df.loc[(weather_df['Lat'] >= 0), ['Lat','Max Temp', 'Humidity', 'Wind Speed', 'Cloudiness']]\n",
    "nh_weatherdf.head()"
   ]
  },
  {
   "cell_type": "code",
   "execution_count": 21,
   "metadata": {},
   "outputs": [
    {
     "data": {
      "text/html": [
       "<div>\n",
       "<style scoped>\n",
       "    .dataframe tbody tr th:only-of-type {\n",
       "        vertical-align: middle;\n",
       "    }\n",
       "\n",
       "    .dataframe tbody tr th {\n",
       "        vertical-align: top;\n",
       "    }\n",
       "\n",
       "    .dataframe thead th {\n",
       "        text-align: right;\n",
       "    }\n",
       "</style>\n",
       "<table border=\"1\" class=\"dataframe\">\n",
       "  <thead>\n",
       "    <tr style=\"text-align: right;\">\n",
       "      <th></th>\n",
       "      <th>Lat</th>\n",
       "      <th>Max Temp</th>\n",
       "      <th>Humidity</th>\n",
       "      <th>Wind Speed</th>\n",
       "      <th>Cloudiness</th>\n",
       "    </tr>\n",
       "  </thead>\n",
       "  <tbody>\n",
       "    <tr>\n",
       "      <th>0</th>\n",
       "      <td>-23.1203</td>\n",
       "      <td>74.19</td>\n",
       "      <td>83</td>\n",
       "      <td>12.50</td>\n",
       "      <td>100</td>\n",
       "    </tr>\n",
       "    <tr>\n",
       "      <th>4</th>\n",
       "      <td>-6.0989</td>\n",
       "      <td>94.10</td>\n",
       "      <td>70</td>\n",
       "      <td>4.61</td>\n",
       "      <td>20</td>\n",
       "    </tr>\n",
       "    <tr>\n",
       "      <th>6</th>\n",
       "      <td>-54.8000</td>\n",
       "      <td>40.66</td>\n",
       "      <td>81</td>\n",
       "      <td>14.97</td>\n",
       "      <td>40</td>\n",
       "    </tr>\n",
       "    <tr>\n",
       "      <th>11</th>\n",
       "      <td>-20.2333</td>\n",
       "      <td>77.22</td>\n",
       "      <td>77</td>\n",
       "      <td>11.23</td>\n",
       "      <td>73</td>\n",
       "    </tr>\n",
       "    <tr>\n",
       "      <th>12</th>\n",
       "      <td>-46.1927</td>\n",
       "      <td>50.49</td>\n",
       "      <td>84</td>\n",
       "      <td>8.14</td>\n",
       "      <td>98</td>\n",
       "    </tr>\n",
       "  </tbody>\n",
       "</table>\n",
       "</div>"
      ],
      "text/plain": [
       "        Lat  Max Temp  Humidity  Wind Speed  Cloudiness\n",
       "0  -23.1203     74.19        83       12.50         100\n",
       "4   -6.0989     94.10        70        4.61          20\n",
       "6  -54.8000     40.66        81       14.97          40\n",
       "11 -20.2333     77.22        77       11.23          73\n",
       "12 -46.1927     50.49        84        8.14          98"
      ]
     },
     "execution_count": 21,
     "metadata": {},
     "output_type": "execute_result"
    }
   ],
   "source": [
    "sh_weatherdf = weather_df.loc[(weather_df['Lat'] < 0), ['Lat','Max Temp', 'Humidity', 'Wind Speed', 'Cloudiness']]\n",
    "sh_weatherdf.head()"
   ]
  },
  {
   "cell_type": "markdown",
   "metadata": {},
   "source": [
    "####  Northern Hemisphere - Max Temp vs. Latitude Linear Regression"
   ]
  },
  {
   "cell_type": "code",
   "execution_count": 25,
   "metadata": {},
   "outputs": [],
   "source": [
    "# Linear regression on temperature vs. latitude\n",
    "nh_lat = nh_weatherdf['Lat']\n",
    "nh_temp = nh_weatherdf['Max Temp']\n",
    "(slope, intercept, rvalue, pvalue, stderr) = stats.linregress(nh_lat, nh_temp)\n",
    "nhregress_values = nh_lat * slope + intercept\n",
    "line_eq = \"y = \" + str(round(slope,2)) + \"x +\" + str(round(intercept,2))\n"
   ]
  },
  {
   "cell_type": "code",
   "execution_count": 27,
   "metadata": {},
   "outputs": [
    {
     "name": "stdout",
     "output_type": "stream",
     "text": [
      "The r-value is: 0.7502936910228598\n"
     ]
    },
    {
     "data": {
      "image/png": "[encoded data removed]",
      "text/plain": [
       "<Figure size 432x288 with 1 Axes>"
      ]
     },
     "metadata": {
      "needs_background": "light"
     },
     "output_type": "display_data"
    }
   ],
   "source": [
    "plt.scatter(nh_lat, nh_temp)\n",
    "plt.plot(nh_lat, nhregress_values, 'r-')\n",
    "plt.xlabel('Latitude')\n",
    "plt.ylabel('Max Temperature')\n",
    "plt.annotate(line_eq,(10,15),fontsize=15,color=\"red\")\n",
    "print(f\"The r-value is: {rvalue**2}\")\n",
    "plt.show()"
   ]
  },
  {
   "cell_type": "markdown",
   "metadata": {},
   "source": [
    "Northern Hemisphere Max Temp vs Latitude: This shows that cities within the northern hemisphere that are further from the equator tend to have colder max temperatures."
   ]
  },
  {
   "cell_type": "markdown",
   "metadata": {},
   "source": [
    "####  Southern Hemisphere - Max Temp vs. Latitude Linear Regression"
   ]
  },
  {
   "cell_type": "code",
   "execution_count": 32,
   "metadata": {},
   "outputs": [],
   "source": [
    "# Linear regression on temperature vs. latitude\n",
    "sh_lat = sh_weatherdf['Lat']\n",
    "sh_temp = sh_weatherdf['Max Temp']\n",
    "(sh_slope, sh_intercept, sh_rvalue, sh_pvalue, sh_stderr) = stats.linregress(sh_lat, sh_temp)\n",
    "shregress_values = sh_lat * sh_slope + sh_intercept\n",
    "shline_eq = \"y = \" + str(round(sh_slope,2)) + \"x +\" + str(round(sh_intercept,2))"
   ]
  },
  {
   "cell_type": "code",
   "execution_count": 33,
   "metadata": {},
   "outputs": [
    {
     "name": "stdout",
     "output_type": "stream",
     "text": [
      "The r-value is: 0.49333090902109683\n"
     ]
    },
    {
     "data": {
      "image/png": "[encoded data removed]",
      "text/plain": [
       "<Figure size 432x288 with 1 Axes>"
      ]
     },
     "metadata": {
      "needs_background": "light"
     },
     "output_type": "display_data"
    }
   ],
   "source": [
    "plt.scatter(sh_lat, sh_temp)\n",
    "plt.plot(sh_lat, shregress_values, 'r-')\n",
    "plt.xlabel('Latitude')\n",
    "plt.ylabel('Max Temperature')\n",
    "plt.annotate(shline_eq,(-25,45),fontsize=15,color=\"red\")\n",
    "print(f\"The r-value is: {sh_rvalue**2}\")\n",
    "plt.show()"
   ]
  },
  {
   "cell_type": "markdown",
   "metadata": {},
   "source": [
    "Southern Hemisphere Max Temp vs Latitude: Similar to the northern hemisphere, this shows that cities going further the equator tend to have colder temperatures."
   ]
  },
  {
   "cell_type": "markdown",
   "metadata": {},
   "source": [
    "####  Northern Hemisphere - Humidity (%) vs. Latitude Linear Regression"
   ]
  },
  {
   "cell_type": "code",
   "execution_count": 41,
   "metadata": {},
   "outputs": [],
   "source": [
    "nh_lat = nh_weatherdf['Lat']\n",
    "nh_hum = nh_weatherdf['Humidity']\n",
    "(nhum_slope, nhum_intercept, nhum_rvalue, nhum_pvalue, nhum_stderr) = stats.linregress(nh_lat, nh_hum)\n",
    "nhumregress_values = nh_lat * nhum_slope + nhum_intercept\n",
    "nhum_line_eq = \"y = \" + str(round(nhum_slope,2)) + \"x +\" + str(round(nhum_intercept,2))"
   ]
  },
  {
   "cell_type": "code",
   "execution_count": 43,
   "metadata": {},
   "outputs": [
    {
     "name": "stdout",
     "output_type": "stream",
     "text": [
      "The r-value is: 0.04443096013372272\n"
     ]
    },
    {
     "data": {
      "image/png": "[encoded data removed]",
      "text/plain": [
       "<Figure size 432x288 with 1 Axes>"
      ]
     },
     "metadata": {
      "needs_background": "light"
     },
     "output_type": "display_data"
    }
   ],
   "source": [
    "plt.scatter(nh_lat, nh_hum)\n",
    "plt.plot(nh_lat, nhumregress_values, 'r-')\n",
    "plt.xlabel('Latitude')\n",
    "plt.ylabel('Humidity')\n",
    "plt.annotate(nhum_line_eq,(50,5),fontsize=15,color=\"red\")\n",
    "print(f\"The r-value is: {nhum_rvalue**2}\")\n",
    "plt.show()"
   ]
  },
  {
   "cell_type": "markdown",
   "metadata": {},
   "source": [
    "####  Southern Hemisphere - Humidity (%) vs. Latitude Linear Regression"
   ]
  },
  {
   "cell_type": "code",
   "execution_count": 39,
   "metadata": {},
   "outputs": [],
   "source": [
    "sh_lat = sh_weatherdf['Lat']\n",
    "sh_hum = sh_weatherdf['Humidity']\n",
    "(shum_slope, shum_intercept, shum_rvalue, shum_pvalue, shum_stderr) = stats.linregress(sh_lat, sh_hum)\n",
    "shumregress_values = sh_lat * shum_slope + shum_intercept\n",
    "shumline_eq = \"y = \" + str(round(shum_slope,2)) + \"x +\" + str(round(shum_intercept,2))"
   ]
  },
  {
   "cell_type": "code",
   "execution_count": 40,
   "metadata": {},
   "outputs": [
    {
     "name": "stdout",
     "output_type": "stream",
     "text": [
      "The r-value is: 0.059452192831836295\n"
     ]
    },
    {
     "data": {
      "image/png": "[encoded data removed]",
      "text/plain": [
       "<Figure size 432x288 with 1 Axes>"
      ]
     },
     "metadata": {
      "needs_background": "light"
     },
     "output_type": "display_data"
    }
   ],
   "source": [
    "plt.scatter(sh_lat, sh_hum)\n",
    "plt.plot(sh_lat, shumregress_values, 'r-')\n",
    "plt.xlabel('Latitude')\n",
    "plt.ylabel('Humidity')\n",
    "plt.annotate(shumline_eq,(-25,45),fontsize=15,color=\"red\")\n",
    "print(f\"The r-value is: {shum_rvalue**2}\")\n",
    "plt.show()"
   ]
  },
  {
   "cell_type": "markdown",
   "metadata": {},
   "source": [
    "Northern and Southern Hemisphere Latitude vs Humidity: Both graphs show a slightly positive relationship however our r-value shows that it will be difficult to predict humidity based on latitude as there is no clear relationship between the variables."
   ]
  },
  {
   "cell_type": "markdown",
   "metadata": {},
   "source": [
    "####  Northern Hemisphere - Cloudiness (%) vs. Latitude Linear Regression"
   ]
  },
  {
   "cell_type": "code",
   "execution_count": 46,
   "metadata": {},
   "outputs": [],
   "source": [
    "nh_lat = nh_weatherdf['Lat']\n",
    "nh_cld = nh_weatherdf['Cloudiness']\n",
    "(nhcld_slope, nhcld_intercept, nhcld_rvalue, nhcld_pvalue, nhcld_stderr) = stats.linregress(nh_lat, nh_cld)\n",
    "nhcldregress_values = nh_lat * nhcld_slope + nhcld_intercept\n",
    "nhcld_line_eq = \"y = \" + str(round(nhcld_slope,2)) + \"x +\" + str(round(nhcld_intercept,2))"
   ]
  },
  {
   "cell_type": "code",
   "execution_count": 47,
   "metadata": {},
   "outputs": [
    {
     "name": "stdout",
     "output_type": "stream",
     "text": [
      "The r-value is: 0.06790637115507053\n"
     ]
    },
    {
     "data": {
      "image/png": "[encoded data removed]",
      "text/plain": [
       "<Figure size 432x288 with 1 Axes>"
      ]
     },
     "metadata": {
      "needs_background": "light"
     },
     "output_type": "display_data"
    }
   ],
   "source": [
    "plt.scatter(nh_lat, nh_cld)\n",
    "plt.plot(nh_lat, nhcldregress_values, 'r-')\n",
    "plt.xlabel('Latitude')\n",
    "plt.ylabel('Cloudiness')\n",
    "plt.annotate(nhcld_line_eq,(50,5),fontsize=15,color=\"red\")\n",
    "print(f\"The r-value is: {nhcld_rvalue**2}\")\n",
    "plt.show()"
   ]
  },
  {
   "cell_type": "markdown",
   "metadata": {},
   "source": [
    "####  Southern Hemisphere - Cloudiness (%) vs. Latitude Linear Regression"
   ]
  },
  {
   "cell_type": "code",
   "execution_count": 48,
   "metadata": {},
   "outputs": [],
   "source": [
    "sh_lat = sh_weatherdf['Lat']\n",
    "sh_cld = sh_weatherdf['Cloudiness']\n",
    "(shcld_slope, shcld_intercept, shcld_rvalue, shcld_pvalue, shcld_stderr) = stats.linregress(sh_lat, sh_cld)\n",
    "shcldregress_values = sh_lat * shcld_slope + shcld_intercept\n",
    "shcld_line_eq = \"y = \" + str(round(shcld_slope,2)) + \"x +\" + str(round(shcld_intercept,2))"
   ]
  },
  {
   "cell_type": "code",
   "execution_count": 51,
   "metadata": {},
   "outputs": [
    {
     "name": "stdout",
     "output_type": "stream",
     "text": [
      "The r-value is: 0.10207359004413932\n"
     ]
    },
    {
     "data": {
      "image/png": "[encoded data removed]",
      "text/plain": [
       "<Figure size 432x288 with 1 Axes>"
      ]
     },
     "metadata": {
      "needs_background": "light"
     },
     "output_type": "display_data"
    }
   ],
   "source": [
    "plt.scatter(sh_lat, sh_cld)\n",
    "plt.plot(sh_lat, shcldregress_values, 'r-')\n",
    "plt.xlabel('Latitude')\n",
    "plt.ylabel('Cloudiness')\n",
    "plt.annotate(shcld_line_eq,(-50,60),fontsize=15,color=\"red\")\n",
    "print(f\"The r-value is: {shcld_rvalue**2}\")\n",
    "plt.show()"
   ]
  },
  {
   "cell_type": "markdown",
   "metadata": {},
   "source": [
    "Northern and Southern Hemisphere Latitude vs Cloudiness: The graphs show that there is a slightly positive relationship between latitude and cloudiness.\n",
    "For countries in the southern hemisphere, the further cities are from the equator the less cloudiness they experience. While those in the northern hemisphere experience the opposite, cities further from the equator experience more cloudiness."
   ]
  },
  {
   "cell_type": "markdown",
   "metadata": {},
   "source": [
    "####  Northern Hemisphere - Wind Speed (mph) vs. Latitude Linear Regression"
   ]
  },
  {
   "cell_type": "code",
   "execution_count": 52,
   "metadata": {},
   "outputs": [],
   "source": [
    "nh_lat = nh_weatherdf['Lat']\n",
    "nh_wind = nh_weatherdf['Wind Speed']\n",
    "(nhwin_slope, nhwin_intercept, nhwin_rvalue, nhwin_pvalue, nhwin_stderr) = stats.linregress(nh_lat, nh_wind)\n",
    "nhwindregress_values = nh_lat * nhwin_slope + nhwin_intercept\n",
    "nhwin_line_eq = \"y = \" + str(round(nhwin_slope,2)) + \"x +\" + str(round(nhwin_intercept,2))"
   ]
  },
  {
   "cell_type": "code",
   "execution_count": 57,
   "metadata": {},
   "outputs": [
    {
     "name": "stdout",
     "output_type": "stream",
     "text": [
      "The r-value is: 0.0006083031742260508\n"
     ]
    },
    {
     "data": {
      "image/png": "[encoded data removed]",
      "text/plain": [
       "<Figure size 432x288 with 1 Axes>"
      ]
     },
     "metadata": {
      "needs_background": "light"
     },
     "output_type": "display_data"
    }
   ],
   "source": [
    "plt.scatter(nh_lat, nh_wind)\n",
    "plt.plot(nh_lat, nhwindregress_values, 'r-')\n",
    "plt.xlabel('Latitude')\n",
    "plt.ylabel('Wind Speed')\n",
    "plt.annotate(nhwin_line_eq,(50,22),fontsize=15,color=\"red\")\n",
    "print(f\"The r-value is: {nhwin_rvalue**2}\")\n",
    "plt.show()"
   ]
  },
  {
   "cell_type": "markdown",
   "metadata": {},
   "source": [
    "####  Southern Hemisphere - Wind Speed (mph) vs. Latitude Linear Regression"
   ]
  },
  {
   "cell_type": "code",
   "execution_count": 58,
   "metadata": {},
   "outputs": [],
   "source": [
    "sh_lat = sh_weatherdf['Lat']\n",
    "sh_wind = sh_weatherdf['Wind Speed']\n",
    "(shwin_slope, shwin_intercept, shwin_rvalue, shwin_pvalue, shwin_stderr) = stats.linregress(sh_lat, sh_wind)\n",
    "shwindregress_values = sh_lat * shwin_slope + shwin_intercept\n",
    "shwin_line_eq = \"y = \" + str(round(shwin_slope,2)) + \"x +\" + str(round(shwin_intercept,2))"
   ]
  },
  {
   "cell_type": "code",
   "execution_count": 61,
   "metadata": {},
   "outputs": [
    {
     "name": "stdout",
     "output_type": "stream",
     "text": [
      "The r-value is: 0.15482480396889808\n"
     ]
    },
    {
     "data": {
      "image/png": "[encoded data removed]",
      "text/plain": [
       "<Figure size 432x288 with 1 Axes>"
      ]
     },
     "metadata": {
      "needs_background": "light"
     },
     "output_type": "display_data"
    }
   ],
   "source": [
    "plt.scatter(sh_lat, sh_wind)\n",
    "plt.plot(sh_lat, shwindregress_values, 'r-')\n",
    "plt.xlabel('Latitude')\n",
    "plt.ylabel('Wind Speed')\n",
    "plt.annotate(shwin_line_eq,(-52,22),fontsize=15,color=\"red\")\n",
    "print(f\"The r-value is: {shwin_rvalue**2}\")\n",
    "plt.show()"
   ]
  },
  {
   "cell_type": "markdown",
   "metadata": {},
   "source": [
    "Northern and Southern Hemisphere Latitude vs Wind Speed: \n",
    "There is no relationship between latitude and wind speed for cities in the northern hemisphere. However there is a slightly negative relationship between the two variables for cities within the southern hemisphere which shows that cities further the equator tends to experience higher wind speed."
   ]
  }
 ],
 "metadata": {
  "anaconda-cloud": {},
  "kernel_info": {
   "name": "python3"
  },
  "kernelspec": {
   "display_name": "Python 3",
   "language": "python",
   "name": "python3"
  },
  "language_info": {
   "codemirror_mode": {
    "name": "ipython",
    "version": 3
   },
   "file_extension": ".py",
   "mimetype": "text/x-python",
   "name": "python",
   "nbconvert_exporter": "python",
   "pygments_lexer": "ipython3",
   "version": "3.9.7"
  },
  "latex_envs": {
   "LaTeX_envs_menu_present": true,
   "autoclose": false,
   "autocomplete": true,
   "bibliofile": "biblio.bib",
   "cite_by": "apalike",
   "current_citInitial": 1,
   "eqLabelWithNumbers": true,
   "eqNumInitial": 1,
   "hotkeys": {
    "equation": "Ctrl-E",
    "itemize": "Ctrl-I"
   },
   "labels_anchors": false,
   "latex_user_defs": false,
   "report_style_numbering": false,
   "user_envs_cfg": false
  },
  "nteract": {
   "version": "0.12.3"
  }
 },
 "nbformat": 4,
 "nbformat_minor": 2
}
